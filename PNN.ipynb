{
 "cells": [
  {
   "cell_type": "code",
   "execution_count": 35,
   "metadata": {},
   "outputs": [],
   "source": [
    "import numpy as np\n",
    "\n",
    "#Imput convention for data. x_train must have dimentions (n,m) were n is the number of features and m the number of examples\n",
    "#if y has more than one \n",
    "\n",
    "#Class of layers. \n",
    "#Attributes\n",
    "# ni: number of activations on input layer\n",
    "# no: number of activations on output layer\n",
    "# activation: the activation used on the layer\n",
    "# w: the weights used on the activation\n",
    "class layer:\n",
    "    def __init__(self, n_in, n_out, activation = 'sigmoid'):\n",
    "        self.ni = n_in\n",
    "        self.no = n_out\n",
    "        self.activation = activation\n",
    "        self.w = np.random.randn(self.no,self.ni)*np.sqrt(2/(self.ni))\n",
    "        self.b = np.random.randn(self.no,)*np.sqrt(2/(self.ni))\n",
    "        \n",
    "    def print_layer(self):\n",
    "        print(\"A camada possui dimensão \" + str(self.ni) + \"x\" + str(self.no))\n",
    "        print(\"A ativação dessa camada é \" + self.activation)\n",
    "\n",
    "#Complete Neural Network. \n",
    "#Attributes\n",
    "# nl: number of layers\n",
    "# cost_function\n",
    "# layers: vector with all the layers\n",
    "class nn:\n",
    "    def __init__(self, cost_function = 'entropy', n_layers = 0):\n",
    "        self.n_layers = n_layers\n",
    "        self.cost_function = cost_function\n",
    "        self.layers = []\n",
    "    \n",
    "    #add one layer\n",
    "    def add_layer(self, n_in, n_out, activation = 'sigmoid'):\n",
    "        self.n_layers += 1\n",
    "        self.layers.append(layer(n_in, n_out, activation))\n",
    "    \n",
    "    #add some layers \n",
    "    def add_layers(self, layers, activations):\n",
    "        m = len(layers) - 1\n",
    "        for i in range(m):\n",
    "            self.add_layer(layers[i], layers[i+1], activations[i])\n",
    "    \n",
    "    def getLayers(self):\n",
    "        return self.layers\n",
    "    \n",
    "    def getNLayers(self):\n",
    "        print(\"Number of layers is: \" + str(self.n_layers))\n",
    "        return self.n_layers\n",
    "    \n",
    "    def getCostFunction(self):\n",
    "        print(\"The cost function is: \" + str(self.cost_function))\n",
    "        return self.cost_function\n",
    "\n",
    "#Auxiliary class just to save the layer values\n",
    "class l:\n",
    "    def __init__(self, x):\n",
    "        self.x = x\n",
    "        \n",
    "    def getX(self):\n",
    "        return self.x\n",
    "    \n",
    "class solver:\n",
    "    def __init__(self, nn, algorithm = 'gradient', learning_rate = 1):\n",
    "        self.algorithm = algorithm\n",
    "        self.lr = learning_rate\n",
    "        self.nn = nn\n",
    "    \n",
    "    def foward(self, layers, x):\n",
    "        self.xs = [l(x)]\n",
    "        self.nx = layers.size+1\n",
    "        for i in range(1,layers.size+1):\n",
    "            self.xs.append(np.dot(layer[i].w, self.xs[i-1])) \n",
    "            \n",
    "    def cost(self, y):\n",
    "        cost_function = self.nn.getCostFunction()\n",
    "        yhat = self.xs[self.nx-1].getX()\n",
    "        if cost_function == 'entropy':\n",
    "            cost = -np.sum(y*np.log(yhat) + (1-y)*np.log(1-yhat), 0)\n",
    "            \n",
    "    def backprop(self):\n",
    "        "
   ]
  },
  {
   "cell_type": "code",
   "execution_count": 36,
   "metadata": {},
   "outputs": [
    {
     "name": "stdout",
     "output_type": "stream",
     "text": [
      "Number of layers is: 0\n",
      "The cost function is: entropy\n",
      "A camada possui dimensão 728x20\n",
      "A ativação dessa camada é sigmoid\n",
      "A camada possui dimensão 20x1\n",
      "A ativação dessa camada é sigmoid\n",
      "Number of layers is: 2\n"
     ]
    },
    {
     "data": {
      "text/plain": [
       "2"
      ]
     },
     "execution_count": 36,
     "metadata": {},
     "output_type": "execute_result"
    }
   ],
   "source": [
    "a = nn()\n",
    "a.getNLayers()\n",
    "a.getCostFunction()\n",
    "\n",
    "a.add_layers([728,20,1], ['sigmoid','sigmoid'])\n",
    "vet = a.getLayers()\n",
    "\n",
    "vet[0].print_layer()\n",
    "vet[1].print_layer()\n",
    "\n",
    "a.getNLayers()"
   ]
  },
  {
   "cell_type": "code",
   "execution_count": 25,
   "metadata": {},
   "outputs": [
    {
     "data": {
      "text/plain": [
       "array([4, 2, 3])"
      ]
     },
     "execution_count": 25,
     "metadata": {},
     "output_type": "execute_result"
    }
   ],
   "source": [
    "data = [l(np.array([1,2,3]))]\n",
    "\n",
    "data.append(l(np.array([4,2,3])))\n",
    "data[1].getX()"
   ]
  },
  {
   "cell_type": "code",
   "execution_count": null,
   "metadata": {},
   "outputs": [],
   "source": []
  }
 ],
 "metadata": {
  "kernelspec": {
   "display_name": "Python 3",
   "language": "python",
   "name": "python3"
  },
  "language_info": {
   "codemirror_mode": {
    "name": "ipython",
    "version": 3
   },
   "file_extension": ".py",
   "mimetype": "text/x-python",
   "name": "python",
   "nbconvert_exporter": "python",
   "pygments_lexer": "ipython3",
   "version": "3.6.4"
  }
 },
 "nbformat": 4,
 "nbformat_minor": 2
}
