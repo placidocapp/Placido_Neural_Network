{
 "cells": [
  {
   "cell_type": "code",
   "execution_count": 77,
   "metadata": {},
   "outputs": [],
   "source": [
    "import numpy as np\n",
    "\n",
    "#Class of layers. Contain information like the weights of the layer\n",
    "class layer:\n",
    "    def __init__(self, n_in, n_out, activation = 'sigmoid'):\n",
    "        self.ni = n_in\n",
    "        self.no = n_out\n",
    "        self.activation = activation\n",
    "        self.w = np.random.randn(self.no,self.ni)*np.sqrt(2/(self.ni))\n",
    "        self.b = np.random.randn(self.no,)*np.sqrt(2/(self.ni))\n",
    "        \n",
    "    def print_layer(self):\n",
    "        print(\"A camada possui dimensão \" + str(self.ni) + \"x\" + str(self.no))\n",
    "        print(\"A ativação dessa camada é \" + self.activation)\n",
    "\n",
    "#Complete Neural Network. Must add layers one by one\n",
    "class nn:\n",
    "    def __init__(self, cost_function = 'entropy', n_layers = 0):\n",
    "        self.n_layers = n_layers\n",
    "        self.cost_function = cost_function\n",
    "        self.layers = []\n",
    "        \n",
    "    def add_layer(self, n_in, n_out, activation = 'sigmoid'):\n",
    "        self.n_layers += 1\n",
    "        self.layers.append(layer(n_in, n_out, activation))\n",
    "        \n",
    "    def add_layers(self, layers, activations):\n",
    "        m = len(layers) - 1\n",
    "        self.n_layers += m\n",
    "        for i in range(m):\n",
    "            self.add_layer(layers[i], layers[i+1], activations[i])\n",
    "    \n",
    "    def getLayers(self):\n",
    "        return self.layers\n",
    "    \n",
    "    def getNLayers(self):\n",
    "        print(\"Number of layers is: \" + str(self.n_layers))\n",
    "        return self.n_layers\n",
    "    \n",
    "    def getCostFunction(self):\n",
    "        print(\"The cost function is: \" + str(self.cost_function))\n",
    "        return self.cost_function"
   ]
  },
  {
   "cell_type": "code",
   "execution_count": 78,
   "metadata": {},
   "outputs": [
    {
     "name": "stdout",
     "output_type": "stream",
     "text": [
      "Number of layers is: 0\n",
      "The cost function is: entropy\n",
      "A camada possui dimensão 728x20\n",
      "A ativação dessa camada é sigmoid\n",
      "A camada possui dimensão 20x20\n",
      "A ativação dessa camada é sigmoid\n",
      "A camada possui dimensão 20x10\n",
      "A ativação dessa camada é sigmoid\n"
     ]
    }
   ],
   "source": [
    "a = nn()\n",
    "a.getNLayers()\n",
    "a.getCostFunction()\n",
    "\n",
    "a.add_layers([728,20,20,10], ['sigmoid','sigmoid','sigmoid'])\n",
    "vet = a.getLayers()\n",
    "\n",
    "vet[0].print_layer()\n",
    "vet[1].print_layer()\n",
    "vet[2].print_layer()"
   ]
  },
  {
   "cell_type": "code",
   "execution_count": null,
   "metadata": {},
   "outputs": [],
   "source": []
  },
  {
   "cell_type": "code",
   "execution_count": null,
   "metadata": {},
   "outputs": [],
   "source": []
  }
 ],
 "metadata": {
  "kernelspec": {
   "display_name": "Python 3",
   "language": "python",
   "name": "python3"
  },
  "language_info": {
   "codemirror_mode": {
    "name": "ipython",
    "version": 3
   },
   "file_extension": ".py",
   "mimetype": "text/x-python",
   "name": "python",
   "nbconvert_exporter": "python",
   "pygments_lexer": "ipython3",
   "version": "3.6.4"
  }
 },
 "nbformat": 4,
 "nbformat_minor": 2
}
